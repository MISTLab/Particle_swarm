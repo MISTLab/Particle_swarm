{
 "cells": [
  {
   "cell_type": "code",
   "execution_count": null,
   "metadata": {},
   "outputs": [],
   "source": [
    "import math\n",
    "import numpy as np\n",
    "import pandas as pd\n",
    "import matplotlib.pyplot as plt\n",
    "import matplotlib.animation as animation\n",
    "from matplotlib.widgets import Slider"
   ]
  },
  {
   "cell_type": "code",
   "execution_count": null,
   "metadata": {},
   "outputs": [],
   "source": [
    "def getCoords(items):\n",
    "  for key, value in items:\n",
    "    if key.startswith('x'):\n",
    "      x = value\n",
    "    if key.startswith('y'):\n",
    "      y = value\n",
    "    if key.startswith('z'):\n",
    "      z = value\n",
    "  return x,y,z\n",
    "\n",
    "def norm(x, y, z):\n",
    "  return math.sqrt(x**2 + y**2 + z**2)\n",
    "\n",
    "# get from dict: https://stackoverflow.com/questions/10795973/python-dictionary-search-values-for-keys-using-regular-expression#10796073\n",
    "def dist(row1, row2):\n",
    "  x,y,z = getCoords(row1.iteritems())\n",
    "  x2,y2,z2 = getCoords(row2.iteritems())\n",
    "  return (x-x2), (y-y2), (z-z2)\n",
    "\n",
    "def getKwgsCoords(**kwgs):\n",
    "  return getCoords(kwgs.items())"
   ]
  },
  {
   "cell_type": "code",
   "execution_count": null,
   "metadata": {},
   "outputs": [],
   "source": [
    "# TODO Partially complete\n",
    "# Way of getting pairwise difference between every robot i and j\n",
    "def getSeparations(df):\n",
    "    robot_separations = {}\n",
    "    i = 0\n",
    "    j = 0\n",
    "    for group_name_i, df_group_i in df.groupby(np.arange(len(df.columns)) // 3, axis=1):\n",
    "        print(\"iteration i: \", i)\n",
    "        robot_separations[i] = {}\n",
    "        j = 0\n",
    "        for group_name_j, df_group_j in df.groupby(np.arange(len(df.columns)) // 3, axis=1):\n",
    "            if i != j:\n",
    "                print(\"iteration j: \", j)\n",
    "                robot_separations[i][j] = {}\n",
    "                for row_index_i, row_i in df_group_i.iterrows():\n",
    "                    for row_index_j, row_j in df_group_j.iterrows():\n",
    "                        print(\"rows: \", row_i, row_j)\n",
    "                        x,y,z = dist(row_i, row_j)\n",
    "                        robot_separations[i][j]['x'] = x\n",
    "                        robot_separations[i][j]['y'] = y\n",
    "                        robot_separations[i][j]['z'] = z\n",
    "            j = j+1\n",
    "            # print(row_index, '\\n', \" here is one row \", row, \" end of row.\")\n",
    "        i = i+1\n",
    "    return robot_separations"
   ]
  },
  {
   "cell_type": "code",
   "execution_count": null,
   "metadata": {
    "tags": []
   },
   "outputs": [],
   "source": [
    "data = pd.read_csv (r'run_300positions.csv')   \n",
    "df = pd.DataFrame(data)\n",
    "df.drop('time', axis=1, inplace=True)\n",
    "df.drop(df.filter(regex='robotId').columns, axis=1, inplace=True)\n",
    "\n",
    "# Take every 3 cols (xyz) and combine into tuples (https://stackoverflow.com/questions/34052001/grouping-a-dataframe-and-applying-tuple)\n",
    "positionalDf = df.groupby(np.arange(len(df.columns)) // 3, axis=1).apply(lambda x: pd.Series([tuple(i) for i in x.values]))\n",
    "\n",
    "# stable_points = df.iloc[50:51] # Review Change to range at which it is stable rigid\n",
    "# stable_points.apply(lambda x: x.mean(), axis=1)\n",
    "# final_points = df.iloc[70:71] # Review Change to range at which we want to compare to\n",
    "# final_points.apply(lambda x: x.mean(), axis=1)\n",
    "# stable_points.index = range(1)\n",
    "# final_points.index = range(1)\n",
    "# print(stable_points)\n",
    "\n",
    "# # Extract difference in position between each robot, at stable and final positions\n",
    "# # print(stable_points.groupby(np.arange(len(stable_points.columns)) // 3, axis=1).groups)\n",
    "# initial_separations = getSeparations(stable_points)\n",
    "# final_separations = getSeparations(final_points)\n",
    "# initial_separations\n",
    "\n",
    "# TODO\n",
    "# Get change in these separations,\n",
    "#  by getting difference b/w all separations and\n",
    "#  then combining, through an average across all subtraction results"
   ]
  },
  {
   "cell_type": "code",
   "execution_count": null,
   "metadata": {},
   "outputs": [],
   "source": [
    "def plotAtTime(t):\n",
    "    # get single row of positions\n",
    "    positions_start = positionalDf[t:t+1].to_numpy().tolist()[0]\n",
    "    # plot 2d (ignore z vals) (https://stackoverflow.com/questions/18458734/how-do-i-plot-list-of-tuples-in-python)\n",
    "    plt.scatter(*list(zip(*positions_start))[:-1])\n",
    "    plt.show()"
   ]
  },
  {
   "cell_type": "code",
   "execution_count": null,
   "metadata": {},
   "outputs": [],
   "source": [
    "positionalDf.shape"
   ]
  },
  {
   "cell_type": "code",
   "execution_count": null,
   "metadata": {},
   "outputs": [],
   "source": [
    "plotAtTime(0)"
   ]
  },
  {
   "cell_type": "code",
   "execution_count": null,
   "metadata": {},
   "outputs": [],
   "source": [
    "plotAtTime(10000)"
   ]
  },
  {
   "cell_type": "code",
   "execution_count": null,
   "metadata": {},
   "outputs": [],
   "source": [
    "plotAtTime(12000)"
   ]
  },
  {
   "cell_type": "code",
   "execution_count": null,
   "metadata": {},
   "outputs": [],
   "source": [
    "plotAtTime(15000)"
   ]
  },
  {
   "cell_type": "code",
   "execution_count": null,
   "metadata": {},
   "outputs": [],
   "source": [
    "plotAtTime(16000)"
   ]
  },
  {
   "cell_type": "code",
   "execution_count": null,
   "metadata": {},
   "outputs": [],
   "source": [
    "plotAtTime(18000)"
   ]
  },
  {
   "cell_type": "code",
   "execution_count": null,
   "metadata": {},
   "outputs": [],
   "source": [
    "plotAtTime(21980)"
   ]
  },
  {
   "cell_type": "code",
   "execution_count": null,
   "metadata": {
    "tags": []
   },
   "outputs": [],
   "source": [
    "fig = plt.figure()\n",
    "axis = plt.axes(xlim =(-6, 15),  \n",
    "                ylim =(-6, 8))\n",
    "# ax.set(xlim=(-3, 3), ylim=(-1, 1))\n",
    "plt.style.use(\"ggplot\")\n",
    "\n",
    "positions_start = positionalDf[0:0+1].to_numpy().tolist()[0]\n",
    "sheep_pos_start = positions_start[:300]\n",
    "dog_pos_start = positions_start[300:]\n",
    "sheep_scat = axis.scatter(*( list(zip(*sheep_pos_start))[:-1] ), color='red')\n",
    "dog_scat = axis.scatter(*( list(zip(*sheep_pos_start))[:-1] ), color='green')\n",
    "\n",
    "def animate(t):\n",
    "    positions = positionalDf[t:t+1].to_numpy().tolist()[0]\n",
    "    positions = [x[0:2] for x in positions]\n",
    "    sheep_pos_start = positions[:300]\n",
    "    dog_pos_start = positions[300:]\n",
    "    sheep_scat.set_offsets(sheep_pos_start)\n",
    "    dog_scat.set_offsets(dog_pos_start)\n",
    "    fig.suptitle(t, fontsize=12)\n",
    "\n",
    "positions_over_time = animation.FuncAnimation(fig, animate, interval=5, frames=50)#21980)\n",
    "# plt.draw()\n",
    "# plt.show()\n",
    "positions_over_time.save('positions.mp4')"
   ]
  },
  {
   "cell_type": "code",
   "execution_count": null,
   "metadata": {},
   "outputs": [],
   "source": [
    "# Trying to follow https://stackoverflow.com/questions/39487901/interactive-animated-scatter-plotting-with-matplotlib\n",
    "\n",
    "fig = plt.figure()  \n",
    "axis = plt.axes(xlim =(-50, 50),  \n",
    "                ylim =(-50, 50))\n",
    "start_time = 0\n",
    "end_time = 3\n",
    "\n",
    "plt.ion()\n",
    "plt.show()\n",
    "\n",
    "for t in range(int(start_time), int(end_time), 1):\n",
    "    positions = positionalDf[t:t+1].to_numpy().tolist()[0]\n",
    "    (x,y) = list(zip(*positions))[:-1]\n",
    "    axis.scatter(x, y)\n",
    "    plt.pause(1.0)"
   ]
  },
  {
   "cell_type": "code",
   "execution_count": null,
   "metadata": {},
   "outputs": [],
   "source": [
    "fig, ax = plt.subplots(1,1)\n",
    "plt.subplots_adjust(bottom=0.25)\n",
    "sax = plt.axes([0.25, 0.1, 0.65, 0.03])\n",
    "start_time = 0\n",
    "end_time = 3\n",
    "slide = Slider(sax, 'time', start_time, end_time, valinit=start_time)\n",
    "\n",
    "#Initial plot\n",
    "positions_start = positionalDf[0:21980+1].to_numpy().tolist()[0]\n",
    "s, = ax.plot(*( list(zip(*positions_start))[:-1] ))\n",
    "\n",
    "def update(t):\n",
    "    positions = positionalDf[t:t+1].to_numpy().tolist()[0]\n",
    "    (x,y) = list(zip(*positions))[:-1]\n",
    "\n",
    "    #Update data based on slider\n",
    "    s.set_xdata(x)\n",
    "    s.set_ydata(y)\n",
    "\n",
    "    #Reset axis limits\n",
    "    ax.set_xlim([x.min()*0.9, x.max()*1.1])\n",
    "    ax.set_ylim([y.min()*0.9, y.max()*1.1])\n",
    "\n",
    "    fig.canvas.draw()\n",
    "\n",
    "slide.on_changed(update)\n",
    "plt.show()"
   ]
  },
  {
   "cell_type": "code",
   "execution_count": null,
   "metadata": {},
   "outputs": [],
   "source": []
  }
 ],
 "metadata": {
  "kernelspec": {
   "name": "Python 3.8.0 64-bit ('poly')",
   "display_name": "Python 3.8.0 64-bit ('poly')",
   "metadata": {
    "interpreter": {
     "hash": "5869326f54c46f92184c1317d50c99908db77dc76b659d98c954b55e4daabffb"
    }
   }
  },
  "language_info": {
   "codemirror_mode": {
    "name": "ipython",
    "version": 3
   },
   "file_extension": ".py",
   "mimetype": "text/x-python",
   "name": "python",
   "nbconvert_exporter": "python",
   "pygments_lexer": "ipython3",
   "version": "3.8.0-final"
  }
 },
 "nbformat": 4,
 "nbformat_minor": 2
}