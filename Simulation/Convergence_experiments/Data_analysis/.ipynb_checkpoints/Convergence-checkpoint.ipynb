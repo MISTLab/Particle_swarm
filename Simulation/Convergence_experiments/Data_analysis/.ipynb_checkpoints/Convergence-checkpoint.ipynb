{
 "cells": [
  {
   "cell_type": "code",
   "execution_count": 1,
   "id": "4c99febb",
   "metadata": {},
   "outputs": [],
   "source": [
    "# Import the necessary Python libraries\n",
    "import pandas as pd\n",
    "import numpy as np\n",
    "import scipy as sp\n",
    "import matplotlib.pyplot as plt\n",
    "from matplotlib.lines import Line2D\n",
    "from math import log10\n",
    "import math\n",
    "from scipy.spatial.distance import pdist, squareform\n",
    "from matplotlib.patches import Patch\n",
    "import matplotlib.lines as mlines\n",
    "from matplotlib import colors as mcolors\n",
    "from matplotlib.patches import Rectangle\n",
    "from matplotlib.collections import PatchCollection\n",
    "from matplotlib.offsetbox import OffsetImage, AnnotationBbox\n",
    "from matplotlib.cbook import get_sample_data\n",
    "import os.path\n",
    "import csv\n",
    "plt.rcParams['pdf.fonttype'] = 42\n",
    "plt.rcParams['ps.fonttype'] = 42"
   ]
  },
  {
   "cell_type": "code",
   "execution_count": 2,
   "id": "69234908",
   "metadata": {},
   "outputs": [],
   "source": [
    "DATA_DIR = \"/media/vivek/a44a9cd3-0e22-4a81-ba99-f3ce6b5effff/Hir_data/data\""
   ]
  },
  {
   "cell_type": "code",
   "execution_count": 3,
   "id": "63dd08e9",
   "metadata": {},
   "outputs": [],
   "source": [
    "Rep = 30\n",
    "Guide_num_max = 4\n",
    "Worker_numbers = [10, 50, 100, 250, 500, 1000, 2000, 5000]\n",
    "WORKER_START_ID = 9000"
   ]
  },
  {
   "cell_type": "code",
   "execution_count": null,
   "id": "658790e7",
   "metadata": {},
   "outputs": [],
   "source": [
    "print(\"EXPERIMENTAL DATA FILES STATS FOR Convergence experiment.\")\n",
    "for guide_num in range(0,Guide_num_max):\n",
    "    for Worker_num_idx in range(0,len(Worker_numbers)):\n",
    "        for rep in range(1,REP+1):\n",
    "            total_num = total_num +1\n",
    "            if not os.path.exists(DATA_DIR+'/HC'+guide_num+'_'+Worker_numbers[Worker_num_idx]+'_'+str(rep)+'.csv'):\n",
    "                print(\"EXP: EXP_TYPE {} MAP_TYPE {} MAPS {} MAP SIZE {} coonf {} rep {} does not exist\".format(EXP_TYPE, MAP_TYPE[EXP_IND],MAPS[EXP_IND][map_id],map_size, CONFS[conf_id],rep))\n",
    "                print(DATA_DIR+'/H'+EXP_TYPE+'_'+MAP_TYPE[EXP_IND]+'_'+MAPS[EXP_IND][map_id]+'_'+str(map_size)+'_'+CONFS[conf_id]+'_'+str(rep)+'.csv')\n",
    "                does_not_exsist = does_not_exsist + 1\n",
    "print(\" Total exp stat: total num of exp {}, files not found {}\".format(total_num, does_not_exsist))\n"
   ]
  },
  {
   "cell_type": "code",
   "execution_count": null,
   "id": "575d02be",
   "metadata": {},
   "outputs": [],
   "source": [
    "def get_names(guide_num, worker_num):\n",
    "    name = ['time_step']\n",
    "    for i in range(0,worker_num):\n",
    "        name.append('id_'+str(i))\n",
    "        name.append('vconf_'+str(i))\n",
    "        name.append('rconf_'+str(i))\n",
    "        name.append('expdone_'+str(i))\n",
    "    for i in range(WORKER_START_ID, WORKER_START_ID + worker_num):\n",
    "        name.append('id_'+str(i))\n",
    "        name.append('vconf_'+str(i))\n",
    "        name.append('rconf_'+str(i))\n",
    "        name.append('expdone_'+str(i))\n",
    "    return name"
   ]
  },
  {
   "cell_type": "code",
   "execution_count": null,
   "id": "1f332989",
   "metadata": {},
   "outputs": [],
   "source": [
    "# Reads the data of a single experiment\n",
    "def read_datafile(name, guide_num, worker_num):\n",
    "    fname = DATA_DIR + \"/\" + name\n",
    "    print(fname)\n",
    "    if not os.path.exists(fname):\n",
    "        print(\"File does not exsist \"+fname)\n",
    "        return pd.DataFrame()\n",
    "    names = get_names(guide_num, worker_num)\n",
    "    return pd.read_csv(fname, names=names, header=None, skiprows=0, engine='python')"
   ]
  },
  {
   "cell_type": "code",
   "execution_count": null,
   "id": "f8a52e88",
   "metadata": {},
   "outputs": [],
   "source": [
    "# Makes a series of raw data out of a set of experiments #\n",
    "# MAP_TYPE+'_'+MAPS[map_id]+'_'+str(map_size)+'_'+CONFS[conf_id]+'_'+str(rep)\n",
    "def static_avg_time_make_series_data(guide_num,worker_num):\n",
    "    # Create series to contain the result\n",
    "    res = pd.Series()\n",
    "    res.set_value(0, guide_num)\n",
    "    res.set_value(1, worker_num)\n",
    "    for i in range(0,Rep):\n",
    "        fname='HC'+guide_num+'_'+worker_num+'_'+str(i)+'.csv'\n",
    "        c_df = read_datafile(fname, guide_num, worker_num)\n",
    "        if not c_df.empty:\n",
    "            res.set_value(i+2, c_df.tail(1).iloc[0][0])\n",
    "    return res\n",
    "# Makes a complete table of raw data\n",
    "def static_avg_time_make_table_data():\n",
    "    ind=0\n",
    "    df_list=[]\n",
    "    # Store data here\n",
    "    df = pd.DataFrame()\n",
    "    # Fill in the data for urban, one series at a time\n",
    "    EXP_IND=0\n",
    "    for guide_num in range(0,Guide_num_max):\n",
    "        for Worker_num_idx in range(0,len(Worker_numbers)):\n",
    "            time=static_avg_time_since_last_found_target_make_series_data(guide_num, Worker_numbers[Worker_num_idx])\n",
    "            df = df.append(time, ignore_index=True)\n",
    "    # Return the dataframe\n",
    "    df.set_index([0, 1, 2, 3], inplace=True)\n",
    "    df.index.names = [\"map_type\", \"map_name\", \"map_size\", \"config\"]\n",
    "    df.columns = range(1, ind)\n",
    "    df_list.append(df)\n",
    "    \n",
    "    # Store data here\n",
    "    df = pd.DataFrame()\n",
    "    # Fill in the data for indoor, one series at a time\n",
    "    EXP_IND=1\n",
    "    ind=0\n",
    "    for map_id in range(0,len(MAPS[EXP_IND])):\n",
    "        for map_size in MAP_SIZES:\n",
    "            for conf_id in range(0,len(CONFS)):\n",
    "                time,ind=static_avg_time_since_last_found_target_make_series_data(EXP_TYPE, MAP_TYPE[EXP_IND], MAPS[EXP_IND][map_id], map_size, 0, conf_id)\n",
    "                df = df.append(time, ignore_index=True)\n",
    "    # Return the dataframe\n",
    "    df.set_index([0, 1, 2, 3], inplace=True)\n",
    "    df.index.names = [\"map_type\", \"map_name\", \"map_size\", \"config\"]\n",
    "    df.columns = range(1, ind)\n",
    "    df_list.append(df)\n",
    "    \n",
    "    # Store data here\n",
    "    df = pd.DataFrame()\n",
    "    EXP_IND=2\n",
    "    map_id=0\n",
    "    ind=0\n",
    "    for map_size in MAP_SIZES:\n",
    "        for conf_id in range(0,len(CONFS)):\n",
    "            time,ind=static_avg_time_since_last_found_target_make_series_data(EXP_TYPE, MAP_TYPE[EXP_IND], MAPS[EXP_IND][map_id], map_size, 1, conf_id)\n",
    "            df = df.append(time, ignore_index=True)\n",
    "    # Return the dataframe\n",
    "    df.set_index([0, 1, 2, 3], inplace=True)\n",
    "    df.index.names = [\"map_type\", \"map_name\", \"map_size\", \"config\"]\n",
    "    df.columns = range(1, ind)\n",
    "    df_list.append(df)\n",
    "    \n",
    "    return df_list"
   ]
  }
 ],
 "metadata": {
  "kernelspec": {
   "display_name": "Python 3 (ipykernel)",
   "language": "python",
   "name": "python3"
  },
  "language_info": {
   "codemirror_mode": {
    "name": "ipython",
    "version": 3
   },
   "file_extension": ".py",
   "mimetype": "text/x-python",
   "name": "python",
   "nbconvert_exporter": "python",
   "pygments_lexer": "ipython3",
   "version": "3.8.10"
  }
 },
 "nbformat": 4,
 "nbformat_minor": 5
}
